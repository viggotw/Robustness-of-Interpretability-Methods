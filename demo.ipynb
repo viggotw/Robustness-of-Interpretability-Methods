{
 "cells": [
  {
   "cell_type": "markdown",
   "metadata": {},
   "source": [
    "# Demo of the robustness score\n",
    "Sources:\n",
    "1. [Summary on the robustness of interpretability methods [Medium]](https://medium.com/@mohamadt/summary-on-the-robustness-of-interpretability-methods-ffb26ba22776)\n",
    "2. [On the Robustness of Interpretability Methods [Arxiv]](https://arxiv.org/pdf/1806.08049.pdf)"
   ]
  },
  {
   "cell_type": "code",
   "execution_count": 1,
   "metadata": {},
   "outputs": [],
   "source": [
    "%load_ext autoreload\n",
    "%autoreload 2"
   ]
  },
  {
   "cell_type": "code",
   "execution_count": 2,
   "metadata": {},
   "outputs": [],
   "source": [
    "import matplotlib.pyplot as plt\n",
    "import numpy as np\n",
    "from tqdm import tqdm\n",
    "from lipschitz_metric import (lipschitz_metric,\n",
    "                              get_perturbations,\n",
    "                              explainer_func_wrapper)"
   ]
  },
  {
   "cell_type": "markdown",
   "metadata": {},
   "source": [
    "## Combining LIME and Lipschitz robustness metric for classification\n",
    "Let's import a dataset, train a simple classifier and use LIME to explain the model. Then, let's use the Lipschitz robustness score to check the stability of the explanations. To better illustrate the use case of the Lipschitz metric, notis that we set `tol=0.1`. This is a much higher tolerance than the default, and will stop the training earlier which in term leads to a less reliable model."
   ]
  },
  {
   "cell_type": "code",
   "execution_count": 3,
   "metadata": {},
   "outputs": [
    {
     "name": "stdout",
     "output_type": "stream",
     "text": [
      "              precision    recall  f1-score   support\n",
      "\n",
      "      setosa       1.00      1.00      1.00         9\n",
      "  versicolor       1.00      0.94      0.97        16\n",
      "   virginica       0.93      1.00      0.96        13\n",
      "\n",
      "    accuracy                           0.97        38\n",
      "   macro avg       0.98      0.98      0.98        38\n",
      "weighted avg       0.98      0.97      0.97        38\n",
      "\n"
     ]
    }
   ],
   "source": [
    "from sklearn.datasets import load_iris\n",
    "from sklearn.model_selection import train_test_split\n",
    "from sklearn.svm import SVC\n",
    "from sklearn.metrics import classification_report\n",
    "from lime import lime_tabular\n",
    "\n",
    "iris = load_iris(as_frame=True)\n",
    "X, y = iris.data, iris.target\n",
    "X_train, X_test, y_train, y_test = train_test_split(X, y)\n",
    "\n",
    "model = SVC(probability=True, tol=0.1)  # <-- NB! tol=0.1\n",
    "model.fit(X_train, y_train)\n",
    "\n",
    "y_pred = model.predict(X_test)\n",
    "print(classification_report(y_test, y_pred, target_names=iris.target_names))"
   ]
  },
  {
   "cell_type": "code",
   "execution_count": 4,
   "metadata": {},
   "outputs": [
    {
     "name": "stdout",
     "output_type": "stream",
     "text": [
      "Input: [6.1 2.8 4.  1.3]\n",
      "Explanations: [('petal length (cm)', -0.12230173222379061), ('petal width (cm)', -0.07145338050694769), ('sepal length (cm)', 0.0497507911561648), ('sepal width (cm)', -0.00961175418092426)]\n"
     ]
    },
    {
     "data": {
      "image/png": "[encoded data removed]",
      "text/plain": [
       "<Figure size 432x288 with 1 Axes>"
      ]
     },
     "metadata": {
      "needs_background": "light"
     },
     "output_type": "display_data"
    }
   ],
   "source": [
    "lime_explainer = lime_tabular.LimeTabularExplainer(X_train.values, feature_names=iris.feature_names, class_names=list(iris.target_names), discretize_continuous=False, sample_around_instance=True)\n",
    "\n",
    "x0 = X_test.iloc[0].values\n",
    "\n",
    "exp = lime_explainer.explain_instance(x0, model.predict_proba)\n",
    "\n",
    "print(f\"Input: {x0}\")\n",
    "print(f\"Explanations: {exp.as_list()}\")\n",
    "exp.as_pyplot_figure();\n"
   ]
  },
  {
   "cell_type": "markdown",
   "metadata": {},
   "source": [
    "### Calculating the Lipschitz robustness metric for one instance\n",
    "\n",
    "We can use the Lipschitz metric as a measure of the stability of the explanations given by LIME. To do this, we create a functions that does three steps:\n",
    "\n",
    "1. Wrap the explainer method of LIME so that it input the input to the ML-model and outputs the feature contributions\n",
    "2. Calculate some small, random perturbations away from the input and the corresponding LIME explanations\n",
    "3. Use the perturbations to calculate the L-metric"
   ]
  },
  {
   "cell_type": "code",
   "execution_count": 5,
   "metadata": {},
   "outputs": [
    {
     "name": "stdout",
     "output_type": "stream",
     "text": [
      "Robustness score: 11.20\n",
      "\n",
      "                                                                   Input     Output\n",
      "Original:                                            [[6.1 2.8 4.  1.3]] --> [[-0.13059349 -0.0736244   0.04692542 -0.00192733]]\n",
      "Worst-case:                [6.12808387 2.79784176 3.94549631 1.28093966] --> [[-0.10115217 -0.05961491  0.05933459 -0.00156356]]\n",
      "\n",
      "Diff:                [[ 0.02808387 -0.00215824 -0.05450369 -0.01906034]] --> [[0.02944132 0.01400949 0.01240917 0.00036376]]\n"
     ]
    }
   ],
   "source": [
    "def get_L_metric(x0, input_space, x_range=None, num_perturbations=100):\n",
    "    # Create a function that accepts the ML-model input and outputs the explainers feature contributions\n",
    "    explainer_func = explainer_func_wrapper(\n",
    "        predict_fn=model.predict_proba,\n",
    "        explainer_handle=lime_explainer,\n",
    "        explainer='lime'\n",
    "    )\n",
    "\n",
    "    # Calculate perturbations and the corresponding explanations\n",
    "    x0, exp0, x_perturbations, exp_perturbations = get_perturbations(\n",
    "        func=explainer_func,\n",
    "        x0=x0,\n",
    "        input_space=input_space,\n",
    "        num_perturbations=num_perturbations\n",
    "    )\n",
    "\n",
    "    # Calculate the L-metric (and return the input that caused this L-metric)\n",
    "    L, x_worst_case = lipschitz_metric(x0, exp0, x_perturbations, exp_perturbations, x_range=x_range)\n",
    "    exp_worst_case = explainer_func(x_worst_case)\n",
    "\n",
    "    return L, x0, exp0, x_worst_case, exp_worst_case\n",
    "\n",
    "input_space = [(x_min, x_max) for x_min, x_max in zip(X_train.min(), X_train.max())]\n",
    "x0 = X_test.iloc[0].values\n",
    "\n",
    "L, x0, exp0, x_worst_case, exp_worst_case = get_L_metric(x0=x0, input_space=input_space, x_range=input_space)\n",
    "\n",
    "print(f\"Robustness score: {L:.2f}\\n\")\n",
    "print(\"                                                                   Input     Output\")\n",
    "print(f\"Original:   {str(x0):>60} --> {exp0}\")\n",
    "print(f\"Worst-case: {str(x_worst_case):>60} --> {exp_worst_case}\\n\")\n",
    "print(f\"Diff:       {str(x_worst_case-x0):>60} --> {exp_worst_case-exp0}\")"
   ]
  },
  {
   "cell_type": "markdown",
   "metadata": {},
   "source": [
    "### Calculating the Lipschitz robustness metric for one instance\n",
    "The example above calculated the Lipschitz metric for *one* instance. Let us now do the same thing for the whole test set. This will reveal where LIME has unstable explanations. \n",
    "\n",
    "(One could also sample the input space and calculate the Lipschitz metric for a larger area.)"
   ]
  },
  {
   "cell_type": "code",
   "execution_count": 6,
   "metadata": {},
   "outputs": [
    {
     "name": "stderr",
     "output_type": "stream",
     "text": [
      "100%|██████████| 38/38 [10:34<00:00, 16.69s/it]\n"
     ]
    }
   ],
   "source": [
    "input_space = [(x_min, x_max) for x_min, x_max in zip(X_train.min(), X_train.max())]\n",
    "L_metric = []\n",
    "x_worst_cases = {col: [] for col in X_test.columns}\n",
    "\n",
    "for col, row in tqdm(X_test.iterrows(), total=X_test.shape[0]):\n",
    "    x0 = row.values\n",
    "\n",
    "    L, x0, exp0, x_worst_case, exp_worst_case = get_L_metric(x0=x0, input_space=input_space, x_range=input_space, num_perturbations=500)\n",
    "    \n",
    "    L_metric.append(L)\n",
    "    for i, col in enumerate(x_worst_cases):\n",
    "        x_worst_cases[col].append(x_worst_case[i])\n",
    "\n",
    "X_test_analysis = X_test.copy()\n",
    "X_test_analysis['L-metric'] = L_metric\n",
    "for col, values in x_worst_cases.items():\n",
    "    X_test_analysis[f'worst_case_{col}'] = values"
   ]
  },
  {
   "cell_type": "code",
   "execution_count": 7,
   "metadata": {},
   "outputs": [
    {
     "data": {
      "text/html": [
       "<div>\n",
       "<style scoped>\n",
       "    .dataframe tbody tr th:only-of-type {\n",
       "        vertical-align: middle;\n",
       "    }\n",
       "\n",
       "    .dataframe tbody tr th {\n",
       "        vertical-align: top;\n",
       "    }\n",
       "\n",
       "    .dataframe thead th {\n",
       "        text-align: right;\n",
       "    }\n",
       "</style>\n",
       "<table border=\"1\" class=\"dataframe\">\n",
       "  <thead>\n",
       "    <tr style=\"text-align: right;\">\n",
       "      <th></th>\n",
       "      <th>sepal length (cm)</th>\n",
       "      <th>sepal width (cm)</th>\n",
       "      <th>petal length (cm)</th>\n",
       "      <th>petal width (cm)</th>\n",
       "      <th>L-metric</th>\n",
       "      <th>worst_case_sepal length (cm)</th>\n",
       "      <th>worst_case_sepal width (cm)</th>\n",
       "      <th>worst_case_petal length (cm)</th>\n",
       "      <th>worst_case_petal width (cm)</th>\n",
       "    </tr>\n",
       "  </thead>\n",
       "  <tbody>\n",
       "    <tr>\n",
       "      <th>71</th>\n",
       "      <td>6.1</td>\n",
       "      <td>2.8</td>\n",
       "      <td>4.0</td>\n",
       "      <td>1.3</td>\n",
       "      <td>15.265199</td>\n",
       "      <td>6.108548</td>\n",
       "      <td>2.823778</td>\n",
       "      <td>3.985840</td>\n",
       "      <td>1.299841</td>\n",
       "    </tr>\n",
       "    <tr>\n",
       "      <th>95</th>\n",
       "      <td>5.7</td>\n",
       "      <td>3.0</td>\n",
       "      <td>4.2</td>\n",
       "      <td>1.2</td>\n",
       "      <td>16.965591</td>\n",
       "      <td>5.718465</td>\n",
       "      <td>3.013931</td>\n",
       "      <td>4.165211</td>\n",
       "      <td>1.205684</td>\n",
       "    </tr>\n",
       "    <tr>\n",
       "      <th>32</th>\n",
       "      <td>5.2</td>\n",
       "      <td>4.1</td>\n",
       "      <td>1.5</td>\n",
       "      <td>0.1</td>\n",
       "      <td>18.590519</td>\n",
       "      <td>5.199954</td>\n",
       "      <td>4.095338</td>\n",
       "      <td>1.500680</td>\n",
       "      <td>0.104436</td>\n",
       "    </tr>\n",
       "    <tr>\n",
       "      <th>116</th>\n",
       "      <td>6.5</td>\n",
       "      <td>3.0</td>\n",
       "      <td>5.5</td>\n",
       "      <td>1.8</td>\n",
       "      <td>5.310058</td>\n",
       "      <td>6.507278</td>\n",
       "      <td>2.999676</td>\n",
       "      <td>5.503435</td>\n",
       "      <td>1.804076</td>\n",
       "    </tr>\n",
       "    <tr>\n",
       "      <th>14</th>\n",
       "      <td>5.8</td>\n",
       "      <td>4.0</td>\n",
       "      <td>1.2</td>\n",
       "      <td>0.2</td>\n",
       "      <td>20.741562</td>\n",
       "      <td>5.808687</td>\n",
       "      <td>3.997569</td>\n",
       "      <td>1.196534</td>\n",
       "      <td>0.200304</td>\n",
       "    </tr>\n",
       "  </tbody>\n",
       "</table>\n",
       "</div>"
      ],
      "text/plain": [
       "     sepal length (cm)  sepal width (cm)  petal length (cm)  petal width (cm)  \\\n",
       "71                 6.1               2.8                4.0               1.3   \n",
       "95                 5.7               3.0                4.2               1.2   \n",
       "32                 5.2               4.1                1.5               0.1   \n",
       "116                6.5               3.0                5.5               1.8   \n",
       "14                 5.8               4.0                1.2               0.2   \n",
       "\n",
       "      L-metric  worst_case_sepal length (cm)  worst_case_sepal width (cm)  \\\n",
       "71   15.265199                      6.108548                     2.823778   \n",
       "95   16.965591                      5.718465                     3.013931   \n",
       "32   18.590519                      5.199954                     4.095338   \n",
       "116   5.310058                      6.507278                     2.999676   \n",
       "14   20.741562                      5.808687                     3.997569   \n",
       "\n",
       "     worst_case_petal length (cm)  worst_case_petal width (cm)  \n",
       "71                       3.985840                     1.299841  \n",
       "95                       4.165211                     1.205684  \n",
       "32                       1.500680                     0.104436  \n",
       "116                      5.503435                     1.804076  \n",
       "14                       1.196534                     0.200304  "
      ]
     },
     "execution_count": 7,
     "metadata": {},
     "output_type": "execute_result"
    }
   ],
   "source": [
    "X_test_analysis.head()"
   ]
  },
  {
   "cell_type": "code",
   "execution_count": 8,
   "metadata": {},
   "outputs": [
    {
     "data": {
      "image/png": "[encoded data removed]",
      "text/plain": [
       "<Figure size 1080x360 with 1 Axes>"
      ]
     },
     "metadata": {
      "needs_background": "light"
     },
     "output_type": "display_data"
    }
   ],
   "source": [
    "X_test_analysis['L-metric'].sort_values(ascending=False).plot.bar(figsize=(15,5), title='L-metric for explanations from X_test');"
   ]
  },
  {
   "cell_type": "code",
   "execution_count": 9,
   "metadata": {},
   "outputs": [
    {
     "name": "stdout",
     "output_type": "stream",
     "text": [
      "Input:        [5.5 2.4 3.7 1. ]\n",
      "Perturbation: [5.50044829 2.40136735 3.69975412 0.99018568]\n"
     ]
    },
    {
     "data": {
      "image/png": "[encoded data removed]",
      "text/plain": [
       "<Figure size 432x288 with 1 Axes>"
      ]
     },
     "metadata": {
      "needs_background": "light"
     },
     "output_type": "display_data"
    },
    {
     "data": {
      "image/png": "[encoded data removed]",
      "text/plain": [
       "<Figure size 432x288 with 1 Axes>"
      ]
     },
     "metadata": {
      "needs_background": "light"
     },
     "output_type": "display_data"
    }
   ],
   "source": [
    "# Look closer at the point with the highest L-metric\n",
    "worst_idx = X_test_analysis['L-metric'].argmax()\n",
    "x0 = X_test_analysis.iloc[worst_idx, :4].values\n",
    "x_perturbed = X_test_analysis.iloc[worst_idx, -4:].values\n",
    "\n",
    "# Plot feature contribution for x0\n",
    "lime_explainer.explain_instance(x0, model.predict_proba).as_pyplot_figure();\n",
    "plt.title('Explanations for original input')\n",
    "print(f\"Input:        {x0}\")\n",
    "\n",
    "# Plot feature contribution for perturbation\n",
    "lime_explainer.explain_instance(x0, model.predict_proba).as_pyplot_figure();\n",
    "plt.title('Explanations for small perturbation from input')\n",
    "print(f\"Perturbation: {x_perturbed}\")"
   ]
  },
  {
   "cell_type": "markdown",
   "metadata": {},
   "source": [
    "As seen above, the test set containts multiple points where the LIME explanations are unstable. When looking closer at the most unstable point, we see that the feature contributions change dramatically, even though the input has barely changed."
   ]
  },
  {
   "cell_type": "markdown",
   "metadata": {},
   "source": [
    "## Educational example\n",
    "Implement the metric describing the robustness of an explanation model in terms of its constant L in the definition of “local Lipschitz continuity”. For the example, implement using a simple predict method.\n",
    "\n",
    "**Definition 2.1 (from [2]):**\n",
    "\n",
    "$$\n",
    "f \\subseteq \\mathbb{R}^n \\rightarrow \\mathbb{R}^m \\textrm{is \\textbf{Locally Lipschitz} if for every } x_0 \\textrm{ there exists } \\delta > 0 \\textrm{ and } L \\in \\mathbb{R} \\textrm{ such that } \\|x - x_0\\| < \\delta \\textrm{ implies } \\|f(x) - f(x_0)\\| < L\\|x - x_0\\|\n",
    "$$\n",
    "\n",
    "In essence, this formula says that for all perturbations $x$ around a given point $x_0$, a function is Locally Lipschitz if there exists some number $L$ that ensures that the difference in output $\\|f(x) - f(x_0)\\|$ is less than $L$ multiplied by the difference in input $\\|x - x_0\\|$. \n",
    "\n",
    "The paper argues that if we find the minimum value for $L$ that satisfies this condition, we can use that as a measure for stability.\n",
    "\n",
    "Originally, the $L$ was meant to be calculated analytically. But since our ML-model cannot be expressed as an end-to-end differentiable function, the authors of [2] suggests using the following formula for approximating $L$:\n",
    "\n",
    "$$\n",
    "\\tilde{L}_X(x_i) = \\underset{x_j \\in \\mathcal{N}_\\epsilon(x_i) \\le \\epsilon}{\\mathrm{argmax}} \\frac{\\|f(x_i)-f(x_j)\\|_2}{\\|x_i-x_j\\|_2}\n",
    "$$\n",
    "Where:\n",
    "$$\n",
    "\\mathcal{N}_\\epsilon(x_i) = \\{ x_j \\in X | \\|x_i-x_j\\| \\le \\epsilon \\}\n",
    "$$\n",
    "\n",
    "The two formulas above basically mean that the stability metric $\\tilde{L}_X(x_i)$ can be found by finding the largest deviation between the difference in both input and output, where the input should be based on a perturbations $x_j$ from a finite-sampled neighbourhood around $x_0$, such that the size of the perturbations are less than some small, \"human-decided\" number $\\epsilon$\n",
    "\n",
    "### An example\n",
    "\n",
    "Testing the robustness score\n",
    "Out function consists of two mathematical functions:\n",
    "\n",
    "$$\n",
    "\\begin{align}\n",
    "f_1(x) &= 3x_1 \\\\\n",
    "f_2(x) &= 5x_2^2 + x_3\n",
    "\\end{align}\n",
    "$$\n",
    "\n",
    "The derivatives of these functions give us\n",
    "$$\n",
    "\\begin{align}\n",
    "\\nabla f_1(x) &= \\begin{bmatrix}\n",
    "           3 \\\\\n",
    "           0 \\\\\n",
    "           0\n",
    "         \\end{bmatrix} \\\\\n",
    "\n",
    "\\nabla f_2(x) &= \\begin{bmatrix}\n",
    "           0 \\\\\n",
    "           10x_2 \\\\\n",
    "           1\n",
    "         \\end{bmatrix} \\\\\n",
    "\\end{align}\n",
    "$$\n",
    "\n",
    "Let's test two points, $(0,0,0)$ and $(0,1,0)$.\n",
    "The point $(0,0,0)$ gives us the following derivatives:\n",
    "$$\n",
    "\\begin{align}\n",
    "\\nabla f_1(0,0,0) &= \\begin{bmatrix}\n",
    "           3 \\\\\n",
    "           0 \\\\\n",
    "           0\n",
    "         \\end{bmatrix} \\\\\n",
    "\n",
    "\\nabla f_2(0,0,0) &= \\begin{bmatrix}\n",
    "           0 \\\\\n",
    "           0 \\\\\n",
    "           1\n",
    "         \\end{bmatrix} \\\\\n",
    "\\end{align}\n",
    "$$\n",
    "\n",
    "While the point $(0,1,0)$ gives us the following derivatives:\n",
    "$$\n",
    "\\begin{align}\n",
    "\\nabla f_1(0,1,0) &= \\begin{bmatrix}\n",
    "           3 \\\\\n",
    "           0 \\\\\n",
    "           0\n",
    "         \\end{bmatrix} \\\\\n",
    "\n",
    "\\nabla f_2(0,1,0) &= \\begin{bmatrix}\n",
    "           0 \\\\\n",
    "           10 \\\\\n",
    "           1\n",
    "         \\end{bmatrix} \\\\\n",
    "\\end{align}\n",
    "$$\n",
    "\n",
    "The Lipschitz robustness score tries to find the largest derivative in any dimention for a given point.\n",
    "From an analytical sense, this corresponds to `max(max(f1'(x*)), max(f2'(x*)))` for a given point $x^*$.\n",
    "We should therefor expect the following results, when testing on our function, as $N \\rightarrow \\infty$:\n",
    "```\n",
    "lipschitz_robustness_score([0,0,0]) = 3\n",
    "lipschitz_robustness_score([0,1,0]) = 10\n",
    "```"
   ]
  },
  {
   "cell_type": "code",
   "execution_count": 10,
   "metadata": {},
   "outputs": [],
   "source": [
    "predict = lambda x: np.array([3*x[:,0],\n",
    "                              5*x[:,1]**2 + x[:,2]]).T"
   ]
  },
  {
   "cell_type": "markdown",
   "metadata": {},
   "source": [
    "## Implementations"
   ]
  },
  {
   "cell_type": "markdown",
   "metadata": {},
   "source": [
    "### Test using random samples"
   ]
  },
  {
   "cell_type": "code",
   "execution_count": 11,
   "metadata": {},
   "outputs": [
    {
     "name": "stdout",
     "output_type": "stream",
     "text": [
      "For x0=[[0 0 0]], the robustness metric is 3.00 after 100000 perturbations, where the biggest gradient was found going from x0 to [ 7.05788851e-01  5.41933926e-05 -6.37760093e-05]\n",
      "For x0=[[0 1 0]], the robustness metric is 10.02 after 100000 perturbations, where the biggest gradient was found going from x0 to [ 4.41993306e-04  1.01945420e+00 -1.08918038e-03]\n"
     ]
    }
   ],
   "source": [
    "input_space = input_space = [(0, 100), (0, 3.14), (-5, 5)]\n",
    "num_perturbations=100_000\n",
    "\n",
    "x0s = np.array([[0,0,0], [0,1,0]])\n",
    "\n",
    "for x0 in x0s:\n",
    "    x0 = x0.reshape(1,-1)\n",
    "    \n",
    "    x0, y0, x_perturbations, y_perturbations = get_perturbations(predict, x0, input_space, num_perturbations=num_perturbations)\n",
    "    L, L_input = lipschitz_metric(x0, y0, x_perturbations, y_perturbations)\n",
    "\n",
    "    print(f\"For x0={x0}, the robustness metric is {L:.2f} after {num_perturbations} perturbations, where the biggest gradient was found going from x0 to {L_input}\")"
   ]
  },
  {
   "cell_type": "markdown",
   "metadata": {},
   "source": [
    "### Test using pre-sampled perturbations\n",
    "If the `predict()`-method is expensive to run, narrowing down the sample-space in a smart way could significantly reduce the execution time. Rather than sampling the input_space randomly, One could either create a grid-search or design a more deterministic approach based on knowledge about the data that only applied perturbations with meaningfull and desirable directions and magnitudes."
   ]
  },
  {
   "cell_type": "code",
   "execution_count": 12,
   "metadata": {},
   "outputs": [
    {
     "name": "stdout",
     "output_type": "stream",
     "text": [
      "For x0=[[0 0 0]], the robustness metric is 3.00, where the biggest gradient was found going from x0 to [0.1 0.  0. ]\n"
     ]
    }
   ],
   "source": [
    "input_perturbations = np.array([\n",
    "    [  0.1,     0,     0],\n",
    "    [ -0.1,     0,     0],\n",
    "    [    0,   0.1,     0],\n",
    "    [    0,  -0.1,     0],\n",
    "    [    0,     0,   0.1],\n",
    "    [    0,     0,  -0.1],\n",
    "    [ 0.01,  0.01,  0.01],\n",
    "    [-0.01, -0.01, -0.01],\n",
    "])\n",
    "\n",
    "x0 = np.array([[0,0,0]])\n",
    "\n",
    "x0, y0, x_perturbations, y_perturbations = get_perturbations(predict, x0, input_perturbations=input_perturbations)\n",
    "L, L_input = lipschitz_metric(x0, y0, x_perturbations, y_perturbations)\n",
    "\n",
    "print(f\"For x0={x0}, the robustness metric is {L:.2f}, where the biggest gradient was found going from x0 to {L_input}\")"
   ]
  }
 ],
 "metadata": {
  "interpreter": {
   "hash": "e14fe98f360bed4093bab26da9581d5c2feb5ee20210386a1ced5a5e3c396d00"
  },
  "kernelspec": {
   "display_name": "Python 3.8.10 64-bit ('tktakstmodul': conda)",
   "language": "python",
   "name": "python3"
  },
  "language_info": {
   "codemirror_mode": {
    "name": "ipython",
    "version": 3
   },
   "file_extension": ".py",
   "mimetype": "text/x-python",
   "name": "python",
   "nbconvert_exporter": "python",
   "pygments_lexer": "ipython3",
   "version": "3.8.10"
  },
  "orig_nbformat": 4
 },
 "nbformat": 4,
 "nbformat_minor": 2
}
